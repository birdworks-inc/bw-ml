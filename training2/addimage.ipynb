{
 "cells": [
  {
   "cell_type": "markdown",
   "id": "7e5cdd4b-8e67-4cc7-9469-92349fc44c75",
   "metadata": {},
   "source": [
    "# チューニング【画像の追加】\n",
    "画像のパターンを増やすため、再度撮影を行いモデルに追加学習をさせる\n",
    "## スマホにて画像撮影を実施し、該当イメージをアップロードする\n",
    "* アップロードディレクトリを作成する"
   ]
  },
  {
   "cell_type": "code",
   "execution_count": null,
   "id": "edcd85c4-7b38-4740-bd38-277190037ddf",
   "metadata": {
    "tags": []
   },
   "outputs": [],
   "source": [
    "import sagemaker, json, numpy as np, os, boto3, uuid\n",
    "from PIL import Image, ImageDraw, ImageOps, ImageColor, ImageFont\n",
    "import matplotlib.patches as patches\n",
    "from matplotlib import pyplot as plt\n",
    "from glob import glob"
   ]
  },
  {
   "cell_type": "code",
   "execution_count": null,
   "id": "201776e0-19e0-4122-a47a-10ee635807cd",
   "metadata": {
    "tags": []
   },
   "outputs": [],
   "source": [
    "import glob\n",
    "import re\n",
    "def make_dir_by_seq(dirname, seq_digit=3):\n",
    "    pattern = f\"{os.path.basename(dirname)}_([0-9]*)\"\n",
    "    prog = re.compile(pattern)\n",
    "    \n",
    "    files = glob.glob(f\"{dirname}_[0-9]*\", recursive=True)\n",
    "    \n",
    "    max_seq = -1\n",
    "    for f in files:\n",
    "        m = prog.match(os.path.basename(f))\n",
    "        if m:\n",
    "            max_seq = max(max_seq, int(m.group(1)))\n",
    "    \n",
    "    new_filename = f\"{dirname}_{max_seq+1:0{seq_digit}}\"\n",
    "    \n",
    "    return new_filename\n",
    "\n",
    "newdir = make_dir_by_seq(\"./train_raw_images\")\n",
    "print(newdir)\n",
    "os.makedirs(newdir, exist_ok=True)\n"
   ]
  },
  {
   "cell_type": "markdown",
   "id": "21559ee4-a2d6-41ed-a450-4912dce5f050",
   "metadata": {},
   "source": [
    "* Studioのアップロードアイコンをクリックし新しく作成したフォルダへアップロードする\n",
    "* ファイルフォーマットの変換及び適正サイズへリサイズを実施する\n",
    "    * IMAGE_PATHを新しく作成したフォルダへ変更\n",
    "        * 例） IMAGE_PATH=\"train_raw_images_000\""
   ]
  },
  {
   "cell_type": "code",
   "execution_count": null,
   "id": "e290a8b6-a243-4890-81f1-d6035e1892cc",
   "metadata": {},
   "outputs": [],
   "source": [
    "# format変換及びリサイズ\n",
    "## アスペクト比を固定して、幅が指定した値になるようリサイズする。\n",
    "IMAGE_PATH=\"train_raw_images_000\"\n",
    "\n",
    "def scale_to_width(img, width):\n",
    "    height = round(img.height * width / img.width)\n",
    "    return img.resize((width, height))\n",
    "\n",
    "def convHeic2Png(image_path):\n",
    "    new_name = image_path.replace('HEIC', 'png')\n",
    "    heif_file = pyheif.read(image_path)\n",
    "    data = Image.frombytes(\n",
    "        heif_file.mode,\n",
    "        heif_file.size,\n",
    "        heif_file.data,\n",
    "        \"raw\",\n",
    "        heif_file.mode,\n",
    "        heif_file.stride,\n",
    "        )\n",
    "    # 画像をリサイズする\n",
    "    data_resized = scale_to_width(data, 500)\n",
    "    data_resized.save(new_name, \"PNG\")\n",
    "    print(f'output heic -> png file:{new_name}')\n",
    "    \n",
    "def convJpeg2Png(image_path):\n",
    "    new_name = image_path.replace('jpeg', 'png')\n",
    "    img = Image.open(image_path)\n",
    "    # 画像をリサイズする\n",
    "    img_resized = scale_to_width(img, 500)\n",
    "    img_resized.save(new_name, \"PNG\")\n",
    "    print(f'output jpeg -> png file:{new_name}')\n",
    "\n",
    "def convPng2Png(image_path):\n",
    "    new_name = image_path\n",
    "    img = Image.open(image_path)\n",
    "    # 画像をリサイズする\n",
    "    img_resized = scale_to_width(img, 500)\n",
    "    img_resized.save(new_name, \"PNG\")\n",
    "    print(f'output png -> png file:{new_name}')\n",
    "\n",
    "print('データ変換開始')\n",
    "\n",
    "lst = glob(f\"./{IMAGE_PATH}/*.*\")\n",
    "for l in lst:\n",
    "    img = Image.open(l)\n",
    "    if l.endswith('heic'):\n",
    "        convHeic2Png(l)\n",
    "        os.remove(l)\n",
    "    elif l.endswith('jpeg'):\n",
    "        convJpeg2Png(l)\n",
    "        os.remove(l)\n",
    "    elif l.endswith('png'):\n",
    "        convPng2Png(l)\n",
    "        os.remove(l)\n",
    "    else:\n",
    "        print('ファイルタイプエラー')\n",
    "print('データ変換終了')\n"
   ]
  },
  {
   "cell_type": "markdown",
   "id": "b905094a-3393-4eb7-8994-3396878b3d12",
   "metadata": {},
   "source": [
    "* パラーメーターを指定する\n",
    "    * <ユーザーID>を自分のユーザーIDへ置き換える\n",
    "        * 例）　S3_BUCKET='training-user1-s3'\n",
    "    * <イメージpath>を作成したフォルダへ変更\n",
    "        * 例） IMAGES_PATH='training2/train_raw_images_000'"
   ]
  },
  {
   "cell_type": "code",
   "execution_count": null,
   "id": "89e4f15c-ad3d-4b43-a6b1-50dc7741eac7",
   "metadata": {},
   "outputs": [],
   "source": [
    "# 各自のS3バケットを指定する\n",
    "S3_BUCKET='training-menter1-s3'\n",
    "# 【変更不要】imageファイルの格納場所指定\n",
    "IMAGES_PATH='training2/train_raw_images_000'"
   ]
  },
  {
   "cell_type": "markdown",
   "id": "135f7f27-eb87-4fec-8c35-434803d2a213",
   "metadata": {},
   "source": [
    "* S3へアップロードする"
   ]
  },
  {
   "cell_type": "code",
   "execution_count": null,
   "id": "ab8e517a-0c77-4be7-82be-3ed96e87bb42",
   "metadata": {
    "tags": []
   },
   "outputs": [],
   "source": [
    "!aws s3 cp ./{IMAGE_PATH} s3://{S3_BUCKET}/{IMAGES_PATH}/images --exclude \".*\"  --recursive"
   ]
  },
  {
   "cell_type": "markdown",
   "id": "81e6ddca-48ad-450b-b41b-644e3138cd6e",
   "metadata": {},
   "source": [
    "## 画像にラベリングを行う\n",
    "* 初期と同様にラベリングジョブの作成\n",
    "* ラベリング実施\n",
    "* ラベリング結果をモデル作成用に加工 次のスクリプトを実行し各自用のS3バケットへ変換した結果をアップロードする\n",
    "    * <ジョブ名>を先程実行したジョブ名に置き換えて実行する\n",
    "       * 例） JOB_NAME=\"team-z-job2\"\n"
   ]
  },
  {
   "cell_type": "code",
   "execution_count": null,
   "id": "31db55f3-9927-404b-8cf5-36627591c747",
   "metadata": {
    "tags": []
   },
   "outputs": [],
   "source": [
    "# ラベリングを行ったジョブ名を指定してください\n",
    "JOB_NAME=\"team-z-job6\""
   ]
  },
  {
   "cell_type": "code",
   "execution_count": null,
   "id": "2f98e7b5-dcd5-42bb-b34e-4bf2ddecc20d",
   "metadata": {
    "tags": []
   },
   "outputs": [],
   "source": [
    "OUTPUT_MANIFEST_PATH=''.join([IMAGES_PATH,'/images/',JOB_NAME,'/manifests/output/output.manifest'])\n",
    "s3 = boto3.resource('s3')\n",
    "my_bucket = s3.Bucket(S3_BUCKET)\n",
    "output_manifest_object = my_bucket.Object(OUTPUT_MANIFEST_PATH)\n",
    "output_manifest_json = output_manifest_object.get()[\"Body\"].read().decode('utf-8').split()\n",
    "OUTPUT_PATH = ''.join([IMAGES_PATH,'/','annotations.json'])\n",
    "\n",
    "\n",
    "# 結果のきのこの山やたけのこの里の位置情報を格納する辞書 \n",
    "annotation_dict = {\n",
    "    'images':[],\n",
    "    'annotations':[]\n",
    "}\n",
    "\n",
    "# 画像のファイル名に使う一意なシーケンス番号\n",
    "IMAGE_ID = 0\n",
    "\n",
    "# ラベリング結果の行数分ループする\n",
    "# ラベリング結果は 1 行につき 1 画像格納される\n",
    "for manifest_line in output_manifest_json:\n",
    "    # 画像のラベリング結果の読み込み\n",
    "    manifest_dict = json.loads(manifest_line)\n",
    "    # print(manifest_dict)\n",
    "    # 画像のファイル名取得(ラベリング結果に格納されている)\n",
    "    filename = manifest_dict['source-ref'].split('/')[-1]\n",
    "    annotation_list = manifest_dict[JOB_NAME]['annotations']\n",
    "    # print(annotation_list)\n",
    "    # ラベリング結果を出力用辞書に格納\n",
    "    annotation_dict['images'].append(\n",
    "        {\n",
    "            'file_name' : filename,\n",
    "            'height' : manifest_dict[JOB_NAME]['image_size'][0]['height'],\n",
    "            'width' : manifest_dict[JOB_NAME]['image_size'][0]['width'],\n",
    "            'id' : IMAGE_ID\n",
    "        }\n",
    "    )\n",
    "    for annotation in annotation_list:\n",
    "        # 座標変換\n",
    "        left = annotation['left']\n",
    "        top = annotation['top']\n",
    "        right = annotation['left'] + annotation['width']\n",
    "        bottom = annotation['top'] + annotation['height']\n",
    "        # アノテーションを編集\n",
    "        annotation_dict['annotations'].append(\n",
    "            {\n",
    "                'image_id': IMAGE_ID,\n",
    "                'bbox': [left, top, right, bottom],\n",
    "                # 文字列へ変換し格納\n",
    "                # 'category_id': manifest_dict['kinotake-user1-metadata']['class-map'][str(annotation['class_id'])]\n",
    "                'category_id': annotation['class_id']\n",
    "            }\n",
    "        )\n",
    "    \n",
    "    IMAGE_ID += 1\n",
    "    \n",
    "obj = s3.Object(S3_BUCKET, OUTPUT_PATH)\n",
    "obj.put(Body = json.dumps(annotation_dict, ensure_ascii=False)) #←変数をJSON変換し S3にPUTする"
   ]
  },
  {
   "cell_type": "code",
   "execution_count": null,
   "id": "38f6e9fe-5eaa-44ec-8f17-a45ea8a2dd59",
   "metadata": {},
   "outputs": [],
   "source": [
    "# モデルに対し再学習させる"
   ]
  }
 ],
 "metadata": {
  "availableInstances": [
   {
    "_defaultOrder": 0,
    "_isFastLaunch": true,
    "category": "General purpose",
    "gpuNum": 0,
    "memoryGiB": 4,
    "name": "ml.t3.medium",
    "vcpuNum": 2
   },
   {
    "_defaultOrder": 1,
    "_isFastLaunch": false,
    "category": "General purpose",
    "gpuNum": 0,
    "memoryGiB": 8,
    "name": "ml.t3.large",
    "vcpuNum": 2
   },
   {
    "_defaultOrder": 2,
    "_isFastLaunch": false,
    "category": "General purpose",
    "gpuNum": 0,
    "memoryGiB": 16,
    "name": "ml.t3.xlarge",
    "vcpuNum": 4
   },
   {
    "_defaultOrder": 3,
    "_isFastLaunch": false,
    "category": "General purpose",
    "gpuNum": 0,
    "memoryGiB": 32,
    "name": "ml.t3.2xlarge",
    "vcpuNum": 8
   },
   {
    "_defaultOrder": 4,
    "_isFastLaunch": true,
    "category": "General purpose",
    "gpuNum": 0,
    "memoryGiB": 8,
    "name": "ml.m5.large",
    "vcpuNum": 2
   },
   {
    "_defaultOrder": 5,
    "_isFastLaunch": false,
    "category": "General purpose",
    "gpuNum": 0,
    "memoryGiB": 16,
    "name": "ml.m5.xlarge",
    "vcpuNum": 4
   },
   {
    "_defaultOrder": 6,
    "_isFastLaunch": false,
    "category": "General purpose",
    "gpuNum": 0,
    "memoryGiB": 32,
    "name": "ml.m5.2xlarge",
    "vcpuNum": 8
   },
   {
    "_defaultOrder": 7,
    "_isFastLaunch": false,
    "category": "General purpose",
    "gpuNum": 0,
    "memoryGiB": 64,
    "name": "ml.m5.4xlarge",
    "vcpuNum": 16
   },
   {
    "_defaultOrder": 8,
    "_isFastLaunch": false,
    "category": "General purpose",
    "gpuNum": 0,
    "memoryGiB": 128,
    "name": "ml.m5.8xlarge",
    "vcpuNum": 32
   },
   {
    "_defaultOrder": 9,
    "_isFastLaunch": false,
    "category": "General purpose",
    "gpuNum": 0,
    "memoryGiB": 192,
    "name": "ml.m5.12xlarge",
    "vcpuNum": 48
   },
   {
    "_defaultOrder": 10,
    "_isFastLaunch": false,
    "category": "General purpose",
    "gpuNum": 0,
    "memoryGiB": 256,
    "name": "ml.m5.16xlarge",
    "vcpuNum": 64
   },
   {
    "_defaultOrder": 11,
    "_isFastLaunch": false,
    "category": "General purpose",
    "gpuNum": 0,
    "memoryGiB": 384,
    "name": "ml.m5.24xlarge",
    "vcpuNum": 96
   },
   {
    "_defaultOrder": 12,
    "_isFastLaunch": false,
    "category": "General purpose",
    "gpuNum": 0,
    "memoryGiB": 8,
    "name": "ml.m5d.large",
    "vcpuNum": 2
   },
   {
    "_defaultOrder": 13,
    "_isFastLaunch": false,
    "category": "General purpose",
    "gpuNum": 0,
    "memoryGiB": 16,
    "name": "ml.m5d.xlarge",
    "vcpuNum": 4
   },
   {
    "_defaultOrder": 14,
    "_isFastLaunch": false,
    "category": "General purpose",
    "gpuNum": 0,
    "memoryGiB": 32,
    "name": "ml.m5d.2xlarge",
    "vcpuNum": 8
   },
   {
    "_defaultOrder": 15,
    "_isFastLaunch": false,
    "category": "General purpose",
    "gpuNum": 0,
    "memoryGiB": 64,
    "name": "ml.m5d.4xlarge",
    "vcpuNum": 16
   },
   {
    "_defaultOrder": 16,
    "_isFastLaunch": false,
    "category": "General purpose",
    "gpuNum": 0,
    "memoryGiB": 128,
    "name": "ml.m5d.8xlarge",
    "vcpuNum": 32
   },
   {
    "_defaultOrder": 17,
    "_isFastLaunch": false,
    "category": "General purpose",
    "gpuNum": 0,
    "memoryGiB": 192,
    "name": "ml.m5d.12xlarge",
    "vcpuNum": 48
   },
   {
    "_defaultOrder": 18,
    "_isFastLaunch": false,
    "category": "General purpose",
    "gpuNum": 0,
    "memoryGiB": 256,
    "name": "ml.m5d.16xlarge",
    "vcpuNum": 64
   },
   {
    "_defaultOrder": 19,
    "_isFastLaunch": false,
    "category": "General purpose",
    "gpuNum": 0,
    "memoryGiB": 384,
    "name": "ml.m5d.24xlarge",
    "vcpuNum": 96
   },
   {
    "_defaultOrder": 20,
    "_isFastLaunch": true,
    "category": "Compute optimized",
    "gpuNum": 0,
    "memoryGiB": 4,
    "name": "ml.c5.large",
    "vcpuNum": 2
   },
   {
    "_defaultOrder": 21,
    "_isFastLaunch": false,
    "category": "Compute optimized",
    "gpuNum": 0,
    "memoryGiB": 8,
    "name": "ml.c5.xlarge",
    "vcpuNum": 4
   },
   {
    "_defaultOrder": 22,
    "_isFastLaunch": false,
    "category": "Compute optimized",
    "gpuNum": 0,
    "memoryGiB": 16,
    "name": "ml.c5.2xlarge",
    "vcpuNum": 8
   },
   {
    "_defaultOrder": 23,
    "_isFastLaunch": false,
    "category": "Compute optimized",
    "gpuNum": 0,
    "memoryGiB": 32,
    "name": "ml.c5.4xlarge",
    "vcpuNum": 16
   },
   {
    "_defaultOrder": 24,
    "_isFastLaunch": false,
    "category": "Compute optimized",
    "gpuNum": 0,
    "memoryGiB": 72,
    "name": "ml.c5.9xlarge",
    "vcpuNum": 36
   },
   {
    "_defaultOrder": 25,
    "_isFastLaunch": false,
    "category": "Compute optimized",
    "gpuNum": 0,
    "memoryGiB": 96,
    "name": "ml.c5.12xlarge",
    "vcpuNum": 48
   },
   {
    "_defaultOrder": 26,
    "_isFastLaunch": false,
    "category": "Compute optimized",
    "gpuNum": 0,
    "memoryGiB": 144,
    "name": "ml.c5.18xlarge",
    "vcpuNum": 72
   },
   {
    "_defaultOrder": 27,
    "_isFastLaunch": false,
    "category": "Compute optimized",
    "gpuNum": 0,
    "memoryGiB": 192,
    "name": "ml.c5.24xlarge",
    "vcpuNum": 96
   },
   {
    "_defaultOrder": 28,
    "_isFastLaunch": true,
    "category": "Accelerated computing",
    "gpuNum": 1,
    "memoryGiB": 16,
    "name": "ml.g4dn.xlarge",
    "vcpuNum": 4
   },
   {
    "_defaultOrder": 29,
    "_isFastLaunch": false,
    "category": "Accelerated computing",
    "gpuNum": 1,
    "memoryGiB": 32,
    "name": "ml.g4dn.2xlarge",
    "vcpuNum": 8
   },
   {
    "_defaultOrder": 30,
    "_isFastLaunch": false,
    "category": "Accelerated computing",
    "gpuNum": 1,
    "memoryGiB": 64,
    "name": "ml.g4dn.4xlarge",
    "vcpuNum": 16
   },
   {
    "_defaultOrder": 31,
    "_isFastLaunch": false,
    "category": "Accelerated computing",
    "gpuNum": 1,
    "memoryGiB": 128,
    "name": "ml.g4dn.8xlarge",
    "vcpuNum": 32
   },
   {
    "_defaultOrder": 32,
    "_isFastLaunch": false,
    "category": "Accelerated computing",
    "gpuNum": 4,
    "memoryGiB": 192,
    "name": "ml.g4dn.12xlarge",
    "vcpuNum": 48
   },
   {
    "_defaultOrder": 33,
    "_isFastLaunch": false,
    "category": "Accelerated computing",
    "gpuNum": 1,
    "memoryGiB": 256,
    "name": "ml.g4dn.16xlarge",
    "vcpuNum": 64
   },
   {
    "_defaultOrder": 34,
    "_isFastLaunch": false,
    "category": "Accelerated computing",
    "gpuNum": 1,
    "memoryGiB": 61,
    "name": "ml.p3.2xlarge",
    "vcpuNum": 8
   },
   {
    "_defaultOrder": 35,
    "_isFastLaunch": false,
    "category": "Accelerated computing",
    "gpuNum": 4,
    "memoryGiB": 244,
    "name": "ml.p3.8xlarge",
    "vcpuNum": 32
   },
   {
    "_defaultOrder": 36,
    "_isFastLaunch": false,
    "category": "Accelerated computing",
    "gpuNum": 8,
    "memoryGiB": 488,
    "name": "ml.p3.16xlarge",
    "vcpuNum": 64
   },
   {
    "_defaultOrder": 37,
    "_isFastLaunch": false,
    "category": "Accelerated computing",
    "gpuNum": 8,
    "memoryGiB": 768,
    "name": "ml.p3dn.24xlarge",
    "vcpuNum": 96
   },
   {
    "_defaultOrder": 38,
    "_isFastLaunch": false,
    "category": "Memory Optimized",
    "gpuNum": 0,
    "memoryGiB": 16,
    "name": "ml.r5.large",
    "vcpuNum": 2
   },
   {
    "_defaultOrder": 39,
    "_isFastLaunch": false,
    "category": "Memory Optimized",
    "gpuNum": 0,
    "memoryGiB": 32,
    "name": "ml.r5.xlarge",
    "vcpuNum": 4
   },
   {
    "_defaultOrder": 40,
    "_isFastLaunch": false,
    "category": "Memory Optimized",
    "gpuNum": 0,
    "memoryGiB": 64,
    "name": "ml.r5.2xlarge",
    "vcpuNum": 8
   },
   {
    "_defaultOrder": 41,
    "_isFastLaunch": false,
    "category": "Memory Optimized",
    "gpuNum": 0,
    "memoryGiB": 128,
    "name": "ml.r5.4xlarge",
    "vcpuNum": 16
   },
   {
    "_defaultOrder": 42,
    "_isFastLaunch": false,
    "category": "Memory Optimized",
    "gpuNum": 0,
    "memoryGiB": 256,
    "name": "ml.r5.8xlarge",
    "vcpuNum": 32
   },
   {
    "_defaultOrder": 43,
    "_isFastLaunch": false,
    "category": "Memory Optimized",
    "gpuNum": 0,
    "memoryGiB": 384,
    "name": "ml.r5.12xlarge",
    "vcpuNum": 48
   },
   {
    "_defaultOrder": 44,
    "_isFastLaunch": false,
    "category": "Memory Optimized",
    "gpuNum": 0,
    "memoryGiB": 512,
    "name": "ml.r5.16xlarge",
    "vcpuNum": 64
   },
   {
    "_defaultOrder": 45,
    "_isFastLaunch": false,
    "category": "Memory Optimized",
    "gpuNum": 0,
    "memoryGiB": 768,
    "name": "ml.r5.24xlarge",
    "vcpuNum": 96
   },
   {
    "_defaultOrder": 46,
    "_isFastLaunch": false,
    "category": "Accelerated computing",
    "gpuNum": 1,
    "memoryGiB": 16,
    "name": "ml.g5.xlarge",
    "vcpuNum": 4
   },
   {
    "_defaultOrder": 47,
    "_isFastLaunch": false,
    "category": "Accelerated computing",
    "gpuNum": 1,
    "memoryGiB": 32,
    "name": "ml.g5.2xlarge",
    "vcpuNum": 8
   },
   {
    "_defaultOrder": 48,
    "_isFastLaunch": false,
    "category": "Accelerated computing",
    "gpuNum": 1,
    "memoryGiB": 64,
    "name": "ml.g5.4xlarge",
    "vcpuNum": 16
   },
   {
    "_defaultOrder": 49,
    "_isFastLaunch": false,
    "category": "Accelerated computing",
    "gpuNum": 1,
    "memoryGiB": 128,
    "name": "ml.g5.8xlarge",
    "vcpuNum": 32
   },
   {
    "_defaultOrder": 50,
    "_isFastLaunch": false,
    "category": "Accelerated computing",
    "gpuNum": 1,
    "memoryGiB": 256,
    "name": "ml.g5.16xlarge",
    "vcpuNum": 64
   },
   {
    "_defaultOrder": 51,
    "_isFastLaunch": false,
    "category": "Accelerated computing",
    "gpuNum": 4,
    "memoryGiB": 192,
    "name": "ml.g5.12xlarge",
    "vcpuNum": 48
   },
   {
    "_defaultOrder": 52,
    "_isFastLaunch": false,
    "category": "Accelerated computing",
    "gpuNum": 4,
    "memoryGiB": 384,
    "name": "ml.g5.24xlarge",
    "vcpuNum": 96
   },
   {
    "_defaultOrder": 53,
    "_isFastLaunch": false,
    "category": "Accelerated computing",
    "gpuNum": 8,
    "memoryGiB": 768,
    "name": "ml.g5.48xlarge",
    "vcpuNum": 192
   }
  ],
  "kernelspec": {
   "display_name": "Python 3 (Data Science)",
   "language": "python",
   "name": "python3__SAGEMAKER_INTERNAL__arn:aws:sagemaker:ap-northeast-1:102112518831:image/datascience-1.0"
  },
  "language_info": {
   "codemirror_mode": {
    "name": "ipython",
    "version": 3
   },
   "file_extension": ".py",
   "mimetype": "text/x-python",
   "name": "python",
   "nbconvert_exporter": "python",
   "pygments_lexer": "ipython3",
   "version": "3.7.10"
  }
 },
 "nbformat": 4,
 "nbformat_minor": 5
}
