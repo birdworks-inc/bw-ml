{
 "cells": [
  {
   "cell_type": "markdown",
   "id": "c96c05ab-70c6-4d2e-847e-d62e1863cd5f",
   "metadata": {
    "tags": []
   },
   "source": [
    "# Rekognitionを利用した猫判定の実施\n",
    "## 目次\n",
    "1. 事前準備\n",
    "    * S3バケットの指定\n",
    "2. 学習の入力となる画像イメージのアップロード\n",
    "3. 【AWSコンソール操作（Rekognition）】　プロジェクト作成\n",
    "4. 【AWSコンソール操作（Rekognition）】　データセット　\n",
    "5. 【AWSコンソール操作（Rekognition）】　ラベリング　　\n",
    "6. 【AWSコンソール操作（Rekognition）】　modelのトレーニング開始　\n",
    "7. modelの起動\n",
    "8. modelを利用した画像判定\n",
    "9. modelの停止"
   ]
  },
  {
   "cell_type": "markdown",
   "id": "1d7c1dfc-32d5-42c5-b0f6-b61d4afbdea8",
   "metadata": {},
   "source": [
    "## 1. 事前準備\n",
    "<ユーザーID>の内容を自分のユーザーIDへ置き換えて下さい\n",
    "* 例）S3_BUCKET='training-user1-s3'"
   ]
  },
  {
   "cell_type": "code",
   "execution_count": null,
   "id": "97b5dbf7-a4a0-4b6b-80ae-200e0f182544",
   "metadata": {
    "tags": []
   },
   "outputs": [],
   "source": [
    "S3_BUCKET='training-<ユーザーID>-s3'"
   ]
  },
  {
   "cell_type": "markdown",
   "id": "6a51ca6a-a8d8-4d75-bdd9-4cb4eed9c977",
   "metadata": {},
   "source": [
    "## 2. 学習の入力となる画像イメージのアップロード"
   ]
  },
  {
   "cell_type": "code",
   "execution_count": null,
   "id": "16bfcd4b-b960-4429-bd1a-b71b240e2738",
   "metadata": {
    "tags": []
   },
   "outputs": [],
   "source": [
    "IMAGES_PATH='training1/images'\n",
    "!aws s3 cp ./train_raw_images s3://{S3_BUCKET}/{IMAGES_PATH} --recursive"
   ]
  },
  {
   "cell_type": "markdown",
   "id": "0598228a-9690-495c-81de-c252aac85c63",
   "metadata": {},
   "source": [
    "> #### 【チェックポイント】S3へアップロードされていることを確認\n",
    "> ![](./images_for_ipynb/t1-1.png)"
   ]
  },
  {
   "cell_type": "markdown",
   "id": "57147c18-02d4-4570-8a42-a8f4033a0ac0",
   "metadata": {},
   "source": [
    "## 3. 【AWSコンソール操作（Rekognition）】　プロジェクト作成\n",
    "* Rekognitionサービスの選択\n",
    "    * 検索へ`rekognition`と入力すると候補が表示されますのでサービスを選択してください\n",
    "\n",
    "![](./images_for_ipynb/t1-2.png)\n",
    "* 「カスタムラベルを利用」を選択し、カスタムラベルの設定を行っていく\n",
    "\n",
    "![](./images_for_ipynb/t1-3.png)\n",
    "* Projectを新規作成していきます\n",
    "\n",
    "![](./images_for_ipynb/t1-4.png)\n",
    "* Project 名を指定し新規プロジェクトを作成します。\n",
    "    * `Project Name`は <ユーザーID>-cats-project を設定してください\n",
    "\n",
    "![](./images_for_ipynb/t1-5.png)"
   ]
  },
  {
   "cell_type": "markdown",
   "id": "d6cd13da-4552-4f24-8068-841d22243fa9",
   "metadata": {},
   "source": [
    "## 4. 【AWSコンソール操作（Rekognition）】　データセット　\n",
    "* 作成したProjectにて`Create Dataset`を押下しデータセットを設定していきます\n",
    "\n",
    "![](./images_for_ipynb/t1-6.png)\n",
    "* データセットの設定を行います\n",
    "    * `Start with a single Dataset` を選択\n",
    "    * `Import images from S3 buket`を選択\n",
    "    * `S3 URI`へアップロードしたS3のURIを設定する\n",
    "    * `Create Dataset` を押下しデータセットの作成を行う\n",
    "\n",
    "![](./images_for_ipynb/t1-7.png)\n"
   ]
  },
  {
   "cell_type": "markdown",
   "id": "4642b9b4-7624-4cf9-b199-582e5b5f9e7b",
   "metadata": {},
   "source": [
    "## 5. 【AWSコンソール操作（Rekognition）】　ラベリング\n",
    "\n",
    "* データセットを選択しラベリングを開始していきます\n",
    "    * `Start labeling` を押下します\n",
    "\n",
    "![](./images_for_ipynb/t1-dataset-1.png)\n",
    "\n",
    "* ラベルの選択肢を作っていきます\n",
    "\n",
    "\n",
    "![](./images_for_ipynb/t1-dataset-2.png)\n",
    "\n",
    "* tamaとmikeが下記のとおりとなるように設定しSaveします\n",
    "\n",
    "\n",
    "![](./images_for_ipynb/t1-dataset-3.png)\n",
    "\n",
    "* 画像を選択します\n",
    "\n",
    "\n",
    "![](./images_for_ipynb/t1-dataset-4.png)\n",
    "\n",
    "* 選択した画像がどちらなのか選択します\n",
    "\n",
    "\n",
    "![](./images_for_ipynb/t1-dataset-5.png)\n",
    "\n",
    "* ラベルが設定されていることを確認します（これをすべての画像で実施します）\n",
    "\n",
    "\n",
    "![](./images_for_ipynb/t1-dataset-6.png)\n",
    "\n",
    "* 全てのラベリングが終了したら変更内容を保存します\n",
    "\n",
    "\n",
    "![](./images_for_ipynb/t1-dataset-7.png)\n",
    "\n"
   ]
  },
  {
   "cell_type": "markdown",
   "id": "5119f4e4-2646-4ecd-8783-24fd14216211",
   "metadata": {
    "jp-MarkdownHeadingCollapsed": true,
    "tags": []
   },
   "source": [
    "## 6. 【AWSコンソール操作（Rekognition）】　modelのトレーニング開始\n",
    "* ラベリングの結果を確認しmodelのトレーニング開始を開始します\n",
    "   * LabeledがImagesと同じ数になっていることを確認（すべてラベリングされていることを確認）\n",
    "   * `Train model` を押下\n",
    "\n",
    "\n",
    "![](./images_for_ipynb/t1-model-1.png)\n",
    "\n",
    "* 内容はそのままで`Train model` を押下し、modelのトレーニング開始を開始します\n",
    "    * `Do you want to train your model?`とダイアログで聞かれますが`Train model` を押下する\n",
    "    * modelのトレーニングはとても時間がかかります（40分程度）\n",
    "\n",
    "\n",
    "![](./images_for_ipynb/t1-model-2.png)\n"
   ]
  },
  {
   "cell_type": "markdown",
   "id": "6f384f4f-3f07-406f-a1d9-d7f211ab96c5",
   "metadata": {},
   "source": [
    "## 7. modelの起動\n",
    "![](./images_for_ipynb/t1-start-pj-1.png)\n",
    "* REKOGNITION_PROJECT_VERSION_ARN へ Amazon Resoure Name(ARN) の内容を設定し実行\n",
    "    * <Amazon Resoure Name(ARN) の内容>の内容を今作成したARNへ置き換えて下さい\n",
    "        * 例）　REKOGNITION_PROJECT_VERSION_ARN='arn:aws:rekognition:ap-northrast-1:XXXXXXX:project/demo-cats-project1/XXXXXXXXXXXX'\n"
   ]
  },
  {
   "cell_type": "code",
   "execution_count": null,
   "id": "2622d1ab-eb6a-495c-afc5-4ad35185bd1c",
   "metadata": {
    "tags": []
   },
   "outputs": [],
   "source": [
    "# REKOGNITION_PROJECT_VERSION_ARN へ Amazon Resoure Name(ARN) の内容を設定\n",
    "REKOGNITION_PROJECT_VERSION_ARN='<Amazon Resoure Name(ARN) の内容>'\n",
    "\n",
    "# Rekognition Project 開始\n",
    "!aws rekognition start-project-version \\\n",
    "  --project-version-arn {REKOGNITION_PROJECT_VERSION_ARN} \\\n",
    "  --min-inference-units 1 \\\n",
    "  --region ap-northeast-1"
   ]
  },
  {
   "cell_type": "markdown",
   "id": "6387a052-7e19-48bc-b5eb-09a71ed3ad4a",
   "metadata": {},
   "source": [
    "## 8. modelを利用した画像判定"
   ]
  },
  {
   "cell_type": "code",
   "execution_count": null,
   "id": "bd8b71f4-bc93-4df0-b5db-16d3cfee114b",
   "metadata": {
    "tags": []
   },
   "outputs": [],
   "source": [
    "TEST_IMAGE_PATH='training1/mike.jpeg'\n",
    "!aws s3 cp ./test_raw_images/mike.jpeg s3://{S3_BUCKET}/{TEST_IMAGE_PATH}"
   ]
  },
  {
   "cell_type": "code",
   "execution_count": null,
   "id": "fb0a67cc-c4a9-4037-bf41-201f960ad093",
   "metadata": {
    "tags": []
   },
   "outputs": [],
   "source": [
    "import boto3, json\n",
    "\n",
    "MIN_CONFIDENCE = 0\n",
    "session = boto3.session.Session(region_name=\"ap-northeast-1\")\n",
    "client = session.client(\"rekognition\")\n",
    "\n",
    "from botocore.exceptions import ClientError\n",
    "\n",
    "try:\n",
    "    #Call DetectCustomLabels \n",
    "    response = client.detect_custom_labels(Image={'S3Object': {'Bucket': S3_BUCKET, 'Name': TEST_IMAGE_PATH}},\n",
    "    MinConfidence=MIN_CONFIDENCE,\n",
    "    ProjectVersionArn=REKOGNITION_PROJECT_VERSION_ARN)\n",
    "    custom_labels_dict = response['CustomLabels']\n",
    "    for label in custom_labels_dict :\n",
    "        print(f'name: {label[\"Name\"]}  confidence: {label[\"Confidence\"]}')\n",
    "        \n",
    "except ClientError as err:\n",
    "    print(\"Exception in get_custom_labels()\")\n",
    "    raise"
   ]
  },
  {
   "cell_type": "markdown",
   "id": "bbd52b6c-061b-42fd-a36a-2c8f6100a014",
   "metadata": {},
   "source": [
    "## 9. modelの停止"
   ]
  },
  {
   "cell_type": "code",
   "execution_count": null,
   "id": "26a7d7d9-ca2f-420b-8477-27b3fbcbbd30",
   "metadata": {
    "tags": []
   },
   "outputs": [],
   "source": [
    "!aws rekognition stop-project-version \\\n",
    "  --project-version-arn {REKOGNITION_PROJECT_VERSION_ARN} \\\n",
    "  --region ap-northeast-1"
   ]
  }
 ],
 "metadata": {
  "availableInstances": [
   {
    "_defaultOrder": 0,
    "_isFastLaunch": true,
    "category": "General purpose",
    "gpuNum": 0,
    "memoryGiB": 4,
    "name": "ml.t3.medium",
    "vcpuNum": 2
   },
   {
    "_defaultOrder": 1,
    "_isFastLaunch": false,
    "category": "General purpose",
    "gpuNum": 0,
    "memoryGiB": 8,
    "name": "ml.t3.large",
    "vcpuNum": 2
   },
   {
    "_defaultOrder": 2,
    "_isFastLaunch": false,
    "category": "General purpose",
    "gpuNum": 0,
    "memoryGiB": 16,
    "name": "ml.t3.xlarge",
    "vcpuNum": 4
   },
   {
    "_defaultOrder": 3,
    "_isFastLaunch": false,
    "category": "General purpose",
    "gpuNum": 0,
    "memoryGiB": 32,
    "name": "ml.t3.2xlarge",
    "vcpuNum": 8
   },
   {
    "_defaultOrder": 4,
    "_isFastLaunch": true,
    "category": "General purpose",
    "gpuNum": 0,
    "memoryGiB": 8,
    "name": "ml.m5.large",
    "vcpuNum": 2
   },
   {
    "_defaultOrder": 5,
    "_isFastLaunch": false,
    "category": "General purpose",
    "gpuNum": 0,
    "memoryGiB": 16,
    "name": "ml.m5.xlarge",
    "vcpuNum": 4
   },
   {
    "_defaultOrder": 6,
    "_isFastLaunch": false,
    "category": "General purpose",
    "gpuNum": 0,
    "memoryGiB": 32,
    "name": "ml.m5.2xlarge",
    "vcpuNum": 8
   },
   {
    "_defaultOrder": 7,
    "_isFastLaunch": false,
    "category": "General purpose",
    "gpuNum": 0,
    "memoryGiB": 64,
    "name": "ml.m5.4xlarge",
    "vcpuNum": 16
   },
   {
    "_defaultOrder": 8,
    "_isFastLaunch": false,
    "category": "General purpose",
    "gpuNum": 0,
    "memoryGiB": 128,
    "name": "ml.m5.8xlarge",
    "vcpuNum": 32
   },
   {
    "_defaultOrder": 9,
    "_isFastLaunch": false,
    "category": "General purpose",
    "gpuNum": 0,
    "memoryGiB": 192,
    "name": "ml.m5.12xlarge",
    "vcpuNum": 48
   },
   {
    "_defaultOrder": 10,
    "_isFastLaunch": false,
    "category": "General purpose",
    "gpuNum": 0,
    "memoryGiB": 256,
    "name": "ml.m5.16xlarge",
    "vcpuNum": 64
   },
   {
    "_defaultOrder": 11,
    "_isFastLaunch": false,
    "category": "General purpose",
    "gpuNum": 0,
    "memoryGiB": 384,
    "name": "ml.m5.24xlarge",
    "vcpuNum": 96
   },
   {
    "_defaultOrder": 12,
    "_isFastLaunch": false,
    "category": "General purpose",
    "gpuNum": 0,
    "memoryGiB": 8,
    "name": "ml.m5d.large",
    "vcpuNum": 2
   },
   {
    "_defaultOrder": 13,
    "_isFastLaunch": false,
    "category": "General purpose",
    "gpuNum": 0,
    "memoryGiB": 16,
    "name": "ml.m5d.xlarge",
    "vcpuNum": 4
   },
   {
    "_defaultOrder": 14,
    "_isFastLaunch": false,
    "category": "General purpose",
    "gpuNum": 0,
    "memoryGiB": 32,
    "name": "ml.m5d.2xlarge",
    "vcpuNum": 8
   },
   {
    "_defaultOrder": 15,
    "_isFastLaunch": false,
    "category": "General purpose",
    "gpuNum": 0,
    "memoryGiB": 64,
    "name": "ml.m5d.4xlarge",
    "vcpuNum": 16
   },
   {
    "_defaultOrder": 16,
    "_isFastLaunch": false,
    "category": "General purpose",
    "gpuNum": 0,
    "memoryGiB": 128,
    "name": "ml.m5d.8xlarge",
    "vcpuNum": 32
   },
   {
    "_defaultOrder": 17,
    "_isFastLaunch": false,
    "category": "General purpose",
    "gpuNum": 0,
    "memoryGiB": 192,
    "name": "ml.m5d.12xlarge",
    "vcpuNum": 48
   },
   {
    "_defaultOrder": 18,
    "_isFastLaunch": false,
    "category": "General purpose",
    "gpuNum": 0,
    "memoryGiB": 256,
    "name": "ml.m5d.16xlarge",
    "vcpuNum": 64
   },
   {
    "_defaultOrder": 19,
    "_isFastLaunch": false,
    "category": "General purpose",
    "gpuNum": 0,
    "memoryGiB": 384,
    "name": "ml.m5d.24xlarge",
    "vcpuNum": 96
   },
   {
    "_defaultOrder": 20,
    "_isFastLaunch": true,
    "category": "Compute optimized",
    "gpuNum": 0,
    "memoryGiB": 4,
    "name": "ml.c5.large",
    "vcpuNum": 2
   },
   {
    "_defaultOrder": 21,
    "_isFastLaunch": false,
    "category": "Compute optimized",
    "gpuNum": 0,
    "memoryGiB": 8,
    "name": "ml.c5.xlarge",
    "vcpuNum": 4
   },
   {
    "_defaultOrder": 22,
    "_isFastLaunch": false,
    "category": "Compute optimized",
    "gpuNum": 0,
    "memoryGiB": 16,
    "name": "ml.c5.2xlarge",
    "vcpuNum": 8
   },
   {
    "_defaultOrder": 23,
    "_isFastLaunch": false,
    "category": "Compute optimized",
    "gpuNum": 0,
    "memoryGiB": 32,
    "name": "ml.c5.4xlarge",
    "vcpuNum": 16
   },
   {
    "_defaultOrder": 24,
    "_isFastLaunch": false,
    "category": "Compute optimized",
    "gpuNum": 0,
    "memoryGiB": 72,
    "name": "ml.c5.9xlarge",
    "vcpuNum": 36
   },
   {
    "_defaultOrder": 25,
    "_isFastLaunch": false,
    "category": "Compute optimized",
    "gpuNum": 0,
    "memoryGiB": 96,
    "name": "ml.c5.12xlarge",
    "vcpuNum": 48
   },
   {
    "_defaultOrder": 26,
    "_isFastLaunch": false,
    "category": "Compute optimized",
    "gpuNum": 0,
    "memoryGiB": 144,
    "name": "ml.c5.18xlarge",
    "vcpuNum": 72
   },
   {
    "_defaultOrder": 27,
    "_isFastLaunch": false,
    "category": "Compute optimized",
    "gpuNum": 0,
    "memoryGiB": 192,
    "name": "ml.c5.24xlarge",
    "vcpuNum": 96
   },
   {
    "_defaultOrder": 28,
    "_isFastLaunch": true,
    "category": "Accelerated computing",
    "gpuNum": 1,
    "memoryGiB": 16,
    "name": "ml.g4dn.xlarge",
    "vcpuNum": 4
   },
   {
    "_defaultOrder": 29,
    "_isFastLaunch": false,
    "category": "Accelerated computing",
    "gpuNum": 1,
    "memoryGiB": 32,
    "name": "ml.g4dn.2xlarge",
    "vcpuNum": 8
   },
   {
    "_defaultOrder": 30,
    "_isFastLaunch": false,
    "category": "Accelerated computing",
    "gpuNum": 1,
    "memoryGiB": 64,
    "name": "ml.g4dn.4xlarge",
    "vcpuNum": 16
   },
   {
    "_defaultOrder": 31,
    "_isFastLaunch": false,
    "category": "Accelerated computing",
    "gpuNum": 1,
    "memoryGiB": 128,
    "name": "ml.g4dn.8xlarge",
    "vcpuNum": 32
   },
   {
    "_defaultOrder": 32,
    "_isFastLaunch": false,
    "category": "Accelerated computing",
    "gpuNum": 4,
    "memoryGiB": 192,
    "name": "ml.g4dn.12xlarge",
    "vcpuNum": 48
   },
   {
    "_defaultOrder": 33,
    "_isFastLaunch": false,
    "category": "Accelerated computing",
    "gpuNum": 1,
    "memoryGiB": 256,
    "name": "ml.g4dn.16xlarge",
    "vcpuNum": 64
   },
   {
    "_defaultOrder": 34,
    "_isFastLaunch": false,
    "category": "Accelerated computing",
    "gpuNum": 1,
    "memoryGiB": 61,
    "name": "ml.p3.2xlarge",
    "vcpuNum": 8
   },
   {
    "_defaultOrder": 35,
    "_isFastLaunch": false,
    "category": "Accelerated computing",
    "gpuNum": 4,
    "memoryGiB": 244,
    "name": "ml.p3.8xlarge",
    "vcpuNum": 32
   },
   {
    "_defaultOrder": 36,
    "_isFastLaunch": false,
    "category": "Accelerated computing",
    "gpuNum": 8,
    "memoryGiB": 488,
    "name": "ml.p3.16xlarge",
    "vcpuNum": 64
   },
   {
    "_defaultOrder": 37,
    "_isFastLaunch": false,
    "category": "Accelerated computing",
    "gpuNum": 8,
    "memoryGiB": 768,
    "name": "ml.p3dn.24xlarge",
    "vcpuNum": 96
   },
   {
    "_defaultOrder": 38,
    "_isFastLaunch": false,
    "category": "Memory Optimized",
    "gpuNum": 0,
    "memoryGiB": 16,
    "name": "ml.r5.large",
    "vcpuNum": 2
   },
   {
    "_defaultOrder": 39,
    "_isFastLaunch": false,
    "category": "Memory Optimized",
    "gpuNum": 0,
    "memoryGiB": 32,
    "name": "ml.r5.xlarge",
    "vcpuNum": 4
   },
   {
    "_defaultOrder": 40,
    "_isFastLaunch": false,
    "category": "Memory Optimized",
    "gpuNum": 0,
    "memoryGiB": 64,
    "name": "ml.r5.2xlarge",
    "vcpuNum": 8
   },
   {
    "_defaultOrder": 41,
    "_isFastLaunch": false,
    "category": "Memory Optimized",
    "gpuNum": 0,
    "memoryGiB": 128,
    "name": "ml.r5.4xlarge",
    "vcpuNum": 16
   },
   {
    "_defaultOrder": 42,
    "_isFastLaunch": false,
    "category": "Memory Optimized",
    "gpuNum": 0,
    "memoryGiB": 256,
    "name": "ml.r5.8xlarge",
    "vcpuNum": 32
   },
   {
    "_defaultOrder": 43,
    "_isFastLaunch": false,
    "category": "Memory Optimized",
    "gpuNum": 0,
    "memoryGiB": 384,
    "name": "ml.r5.12xlarge",
    "vcpuNum": 48
   },
   {
    "_defaultOrder": 44,
    "_isFastLaunch": false,
    "category": "Memory Optimized",
    "gpuNum": 0,
    "memoryGiB": 512,
    "name": "ml.r5.16xlarge",
    "vcpuNum": 64
   },
   {
    "_defaultOrder": 45,
    "_isFastLaunch": false,
    "category": "Memory Optimized",
    "gpuNum": 0,
    "memoryGiB": 768,
    "name": "ml.r5.24xlarge",
    "vcpuNum": 96
   },
   {
    "_defaultOrder": 46,
    "_isFastLaunch": false,
    "category": "Accelerated computing",
    "gpuNum": 1,
    "memoryGiB": 16,
    "name": "ml.g5.xlarge",
    "vcpuNum": 4
   },
   {
    "_defaultOrder": 47,
    "_isFastLaunch": false,
    "category": "Accelerated computing",
    "gpuNum": 1,
    "memoryGiB": 32,
    "name": "ml.g5.2xlarge",
    "vcpuNum": 8
   },
   {
    "_defaultOrder": 48,
    "_isFastLaunch": false,
    "category": "Accelerated computing",
    "gpuNum": 1,
    "memoryGiB": 64,
    "name": "ml.g5.4xlarge",
    "vcpuNum": 16
   },
   {
    "_defaultOrder": 49,
    "_isFastLaunch": false,
    "category": "Accelerated computing",
    "gpuNum": 1,
    "memoryGiB": 128,
    "name": "ml.g5.8xlarge",
    "vcpuNum": 32
   },
   {
    "_defaultOrder": 50,
    "_isFastLaunch": false,
    "category": "Accelerated computing",
    "gpuNum": 1,
    "memoryGiB": 256,
    "name": "ml.g5.16xlarge",
    "vcpuNum": 64
   },
   {
    "_defaultOrder": 51,
    "_isFastLaunch": false,
    "category": "Accelerated computing",
    "gpuNum": 4,
    "memoryGiB": 192,
    "name": "ml.g5.12xlarge",
    "vcpuNum": 48
   },
   {
    "_defaultOrder": 52,
    "_isFastLaunch": false,
    "category": "Accelerated computing",
    "gpuNum": 4,
    "memoryGiB": 384,
    "name": "ml.g5.24xlarge",
    "vcpuNum": 96
   },
   {
    "_defaultOrder": 53,
    "_isFastLaunch": false,
    "category": "Accelerated computing",
    "gpuNum": 8,
    "memoryGiB": 768,
    "name": "ml.g5.48xlarge",
    "vcpuNum": 192
   }
  ],
  "instance_type": "ml.t3.medium",
  "kernelspec": {
   "display_name": "Python 3 (Data Science)",
   "language": "python",
   "name": "python3__SAGEMAKER_INTERNAL__arn:aws:sagemaker:ap-northeast-1:102112518831:image/datascience-1.0"
  },
  "language_info": {
   "codemirror_mode": {
    "name": "ipython",
    "version": 3
   },
   "file_extension": ".py",
   "mimetype": "text/x-python",
   "name": "python",
   "nbconvert_exporter": "python",
   "pygments_lexer": "ipython3",
   "version": "3.7.10"
  }
 },
 "nbformat": 4,
 "nbformat_minor": 5
}
